{
 "cells": [
  {
   "cell_type": "code",
   "execution_count": 9,
   "metadata": {},
   "outputs": [],
   "source": [
    "#Importa o pacote sqlite\n",
    "import sqlite3\n",
    "\n",
    "#Criando o objeto de conexão com o banco de dados\n",
    "conn = sqlite3.connect('cadastro.db')\n",
    "\n",
    "#Criando o objeto cursor. O cursor percorre todos os registros em um banco de dados\n",
    "c = conn.cursor()\n",
    "\n",
    "#Função para criar a tabela\n",
    "def criar_tabela():\n",
    "    c.execute('CREATE TABLE IF NOT EXISTS endereco(id INTEGER PRIMARY KEY AUTOINCREMENT NOT NULL,'\\\n",
    "              'rua TEXT,'\\\n",
    "              'numero INTEGER,'\\\n",
    "              'cep INTEGER,'\\\n",
    "              'cidade VARCHAR(50),'\n",
    "              'uf CHAR(2),'\\\n",
    "              'complemento VARCHAR(100)) ')\n",
    "    \n",
    "    \n",
    "#Função para inserir dados na tabela\n",
    "def inserir_dados():\n",
    "    c.execute(\"INSERT INTO endereco VALUES(10, 'Alameda Santos', 1001, 12376000, 'São Paulo', 'SP', 'Sem complemento')\")\n",
    "    conn.commit()\n",
    "    c.close()\n",
    "    conn.close()\n",
    "    \n",
    "    \n",
    "#Chamada a função para criar a tabela\n",
    "criar_tabela()\n",
    "\n",
    "#Chamada a função para inserir dados na tabela\n",
    "inserir_dados()"
   ]
  },
  {
   "cell_type": "code",
   "execution_count": null,
   "metadata": {},
   "outputs": [],
   "source": []
  }
 ],
 "metadata": {
  "kernelspec": {
   "display_name": "Python 3",
   "language": "python",
   "name": "python3"
  },
  "language_info": {
   "codemirror_mode": {
    "name": "ipython",
    "version": 3
   },
   "file_extension": ".py",
   "mimetype": "text/x-python",
   "name": "python",
   "nbconvert_exporter": "python",
   "pygments_lexer": "ipython3",
   "version": "3.7.1"
  }
 },
 "nbformat": 4,
 "nbformat_minor": 2
}
